{
 "cells": [
  {
   "cell_type": "code",
   "execution_count": 20,
   "metadata": {},
   "outputs": [
    {
     "ename": "ModuleNotFoundError",
     "evalue": "No module named 'ipyleaflet'",
     "output_type": "error",
     "traceback": [
      "\u001b[0;31m---------------------------------------------------------------------------\u001b[0m",
      "\u001b[0;31mModuleNotFoundError\u001b[0m                       Traceback (most recent call last)",
      "\u001b[0;32m<ipython-input-20-8612b47d9c4a>\u001b[0m in \u001b[0;36m<module>\u001b[0;34m\u001b[0m\n\u001b[1;32m      1\u001b[0m \u001b[0;32mimport\u001b[0m \u001b[0mpandas\u001b[0m \u001b[0;32mas\u001b[0m \u001b[0mpd\u001b[0m\u001b[0;34m\u001b[0m\u001b[0;34m\u001b[0m\u001b[0m\n\u001b[0;32m----> 2\u001b[0;31m \u001b[0;32mfrom\u001b[0m \u001b[0mipyleaflet\u001b[0m \u001b[0;32mimport\u001b[0m \u001b[0;34m*\u001b[0m\u001b[0;34m\u001b[0m\u001b[0;34m\u001b[0m\u001b[0m\n\u001b[0m\u001b[1;32m      3\u001b[0m \u001b[0;32mfrom\u001b[0m \u001b[0mbranca\u001b[0m\u001b[0;34m.\u001b[0m\u001b[0mcolormap\u001b[0m \u001b[0;32mimport\u001b[0m \u001b[0mlinear\u001b[0m\u001b[0;34m\u001b[0m\u001b[0;34m\u001b[0m\u001b[0m\n\u001b[1;32m      4\u001b[0m \u001b[0;32mimport\u001b[0m \u001b[0mgeopandas\u001b[0m \u001b[0;32mas\u001b[0m \u001b[0mgpd\u001b[0m\u001b[0;34m\u001b[0m\u001b[0;34m\u001b[0m\u001b[0m\n\u001b[1;32m      5\u001b[0m \u001b[0;32mimport\u001b[0m \u001b[0mjson\u001b[0m\u001b[0;34m\u001b[0m\u001b[0;34m\u001b[0m\u001b[0m\n",
      "\u001b[0;31mModuleNotFoundError\u001b[0m: No module named 'ipyleaflet'"
     ]
    }
   ],
   "source": [
    "import pandas as pd\n",
    "from ipyleaflet import *\n",
    "from branca.colormap import linear\n",
    "import geopandas as gpd\n",
    "import json\n",
    "import pandas\n",
    "from colour import Color\n",
    "from pandas_profiling import ProfileReport\n",
    "import numpy as np\n",
    "from ipywidgets import *"
   ]
  },
  {
   "cell_type": "code",
   "execution_count": 41,
   "metadata": {},
   "outputs": [],
   "source": [
    "import seaborn as sns"
   ]
  },
  {
   "cell_type": "code",
   "execution_count": 13,
   "metadata": {},
   "outputs": [
    {
     "name": "stdout",
     "output_type": "stream",
     "text": [
      "Collecting wbgapi\n",
      "  Downloading wbgapi-1.0.7-py3-none-any.whl (35 kB)\n",
      "Requirement already satisfied: PyYAML in /Users/mcolas/opt/anaconda3/lib/python3.8/site-packages (from wbgapi) (5.3.1)\n",
      "Requirement already satisfied: requests in /Users/mcolas/opt/anaconda3/lib/python3.8/site-packages (from wbgapi) (2.24.0)\n",
      "Collecting tabulate\n",
      "  Downloading tabulate-0.8.9-py3-none-any.whl (25 kB)\n",
      "Requirement already satisfied: idna<3,>=2.5 in /Users/mcolas/opt/anaconda3/lib/python3.8/site-packages (from requests->wbgapi) (2.10)\n",
      "Collecting urllib3!=1.25.0,!=1.25.1,<1.26,>=1.21.1\n",
      "  Downloading urllib3-1.25.11-py2.py3-none-any.whl (127 kB)\n",
      "\u001b[K     |████████████████████████████████| 127 kB 1.4 MB/s eta 0:00:01\n",
      "\u001b[?25hRequirement already satisfied: certifi>=2017.4.17 in /Users/mcolas/opt/anaconda3/lib/python3.8/site-packages (from requests->wbgapi) (2020.6.20)\n",
      "Requirement already satisfied: chardet<4,>=3.0.2 in /Users/mcolas/opt/anaconda3/lib/python3.8/site-packages (from requests->wbgapi) (3.0.4)\n",
      "\u001b[31mERROR: selenium 4.0.0 has requirement urllib3[secure]~=1.26, but you'll have urllib3 1.25.11 which is incompatible.\u001b[0m\n",
      "Installing collected packages: tabulate, wbgapi, urllib3\n",
      "  Attempting uninstall: urllib3\n",
      "    Found existing installation: urllib3 1.26.7\n",
      "    Uninstalling urllib3-1.26.7:\n",
      "      Successfully uninstalled urllib3-1.26.7\n",
      "Successfully installed tabulate-0.8.9 urllib3-1.25.11 wbgapi-1.0.7\n",
      "Note: you may need to restart the kernel to use updated packages.\n"
     ]
    }
   ],
   "source": [
    "pip install wbgapi"
   ]
  },
  {
   "cell_type": "markdown",
   "metadata": {},
   "source": [
    "# Récupération des données"
   ]
  },
  {
   "cell_type": "code",
   "execution_count": 7,
   "metadata": {},
   "outputs": [
    {
     "name": "stderr",
     "output_type": "stream",
     "text": [
      "/Users/mcolas/opt/anaconda3/lib/python3.8/site-packages/IPython/core/interactiveshell.py:3071: DtypeWarning: Columns (47) have mixed types.Specify dtype option on import or set low_memory=False.\n",
      "  has_raised = await self.run_ast_nodes(code_ast.body, cell_name,\n"
     ]
    }
   ],
   "source": [
    "# 1989-01-01 and 2020-12-31\n",
    "df = pd.read_csv('/Users/mcolas/Documents/GitHub/UCDP-project/data_ucdp.csv')"
   ]
  },
  {
   "cell_type": "code",
   "execution_count": 4,
   "metadata": {},
   "outputs": [],
   "source": [
    "# Création d'une première base comportant des variables par pays et année que l'on utilisera dans la partie modélisation\n",
    "\n",
    "#instabilité politique\n",
    "df_insta_pol = pd.read_excel(r'C:\\Users\\matth\\OneDrive - GENES\\ENSAE 2A\\Python pour le data scientist/p5v2018.xls')\n",
    "df_insta_pol2 = df_insta_pol[df_insta_pol['year']>= 1989] #de 1989 à 2018\n",
    "df_insta_pol3 = df_insta_pol2[['country','year','polity2']]\n",
    "\n",
    "\n",
    "#vulnérabilité climatique\n",
    "df_clim = pd.read_excel(r'C:\\Users\\matth\\OneDrive - GENES\\ENSAE 2A\\Python pour le data scientist/donnees-indicateur-de-vulnerabilite-physique-au-changement-climatique (1).xlsx')\n",
    "df_vul_chang_clim = df_clim[['Country', 'PVCCI']]\n",
    "d = df_insta_pol3.merge(df_vul_chang_clim, left_on = 'country', right_on = 'Country').drop(columns = ['Country'])\n",
    "\n",
    "\n",
    "#fractionalisation sociale\n",
    "df_frac = pd.read_excel(r'C:\\Users\\matth\\OneDrive - GENES\\ENSAE 2A\\Python pour le data scientist/indicateurs-de-fragmentation-ethnolinguistique.xls')\n",
    "df_fractio_soci = df_frac[['country_name','fearon']]\n",
    "d2 = d.merge(df_fractio_soci, left_on = 'country', right_on = 'country_name').drop(columns = ['country_name'])\n",
    "\n",
    "\n",
    "#vulnérabilité économique structurelle\n",
    "df1 = pd.read_excel(r'C:\\Users\\matth\\OneDrive - GENES\\ENSAE 2A\\Python pour le data scientist/indicateur-de-vulnerabilite.xlsx')\n",
    "df2 = df1[df1['year']>= 1989] #de 1989 à 2018\n",
    "df_vul_eco = df2[['country','year','EVI']]\n",
    "\n",
    "\n",
    "dataframe1 = d2.merge(df_vul_eco, left_on = 'country', right_on = 'country').drop(columns = ['year_x']).rename(columns = {'year_y': 'year'})\n",
    "\n"
   ]
  },
  {
   "cell_type": "code",
   "execution_count": 6,
   "metadata": {},
   "outputs": [],
   "source": [
    "# Création d'une deuxième base comportant des variables par pays et année que l'on utilisera dans la partie modélisation\n",
    "\n",
    "#Population totale, PIB par habitant (en $), Indice GINI, Indice de capital humain, Croissance annuelle du PIB\n",
    "import wbgapi as wb\n",
    "dataframe2 = wb.data.DataFrame(['SP.POP.TOTL','NY.GDP.PCAP.KD','NY.GDP.MKTP.KD.ZG','SI.POV.GINI','HD.HCI.OVRL'], labels =True, time = range(1989, 2020), columns = 'series').reset_index().rename(columns = {'Time': 'year', 'SP.POP.TOTL' : 'Population', 'NY.GDP.PCAP.KD' : 'PIB/hab', 'NY.GDP.MKTP.KD.ZG' : 'Croissance PIB', 'SI.POV.GINI' : 'GINI', 'HD.HCI.OVRL' : 'Capital Humain'}).drop(columns = ['time','economy'])\n"
   ]
  },
  {
   "cell_type": "code",
   "execution_count": 15,
   "metadata": {},
   "outputs": [],
   "source": [
    "# On ne garde que les colonnes pour premièrement faire une carte de \n",
    "#la densité d'événements\n",
    "# par pays au cours du temps\n",
    "countries = gpd.read_file(gpd.datasets.get_path(\"naturalearth_lowres\"))"
   ]
  },
  {
   "cell_type": "markdown",
   "metadata": {},
   "source": [
    "# Statistiques descriptives"
   ]
  },
  {
   "cell_type": "code",
   "execution_count": 24,
   "metadata": {},
   "outputs": [
    {
     "data": {
      "text/plain": [
       "count    261864.000000\n",
       "mean         10.275128\n",
       "std         222.556417\n",
       "min           0.000000\n",
       "25%           1.000000\n",
       "50%           2.000000\n",
       "75%           5.000000\n",
       "max       48183.000000\n",
       "Name: best, dtype: float64"
      ]
     },
     "execution_count": 24,
     "metadata": {},
     "output_type": "execute_result"
    }
   ],
   "source": [
    "df['best'].describe()"
   ]
  },
  {
   "cell_type": "code",
   "execution_count": 59,
   "metadata": {},
   "outputs": [
    {
     "data": {
      "text/html": [
       "<div>\n",
       "<style scoped>\n",
       "    .dataframe tbody tr th:only-of-type {\n",
       "        vertical-align: middle;\n",
       "    }\n",
       "\n",
       "    .dataframe tbody tr th {\n",
       "        vertical-align: top;\n",
       "    }\n",
       "\n",
       "    .dataframe thead th {\n",
       "        text-align: right;\n",
       "    }\n",
       "</style>\n",
       "<table border=\"1\" class=\"dataframe\">\n",
       "  <thead>\n",
       "    <tr style=\"text-align: right;\">\n",
       "      <th></th>\n",
       "      <th></th>\n",
       "      <th>nombre_conflits</th>\n",
       "    </tr>\n",
       "    <tr>\n",
       "      <th>year</th>\n",
       "      <th>type_of_violence</th>\n",
       "      <th></th>\n",
       "    </tr>\n",
       "  </thead>\n",
       "  <tbody>\n",
       "    <tr>\n",
       "      <th rowspan=\"3\" valign=\"top\">1989</th>\n",
       "      <th>1</th>\n",
       "      <td>50</td>\n",
       "    </tr>\n",
       "    <tr>\n",
       "      <th>2</th>\n",
       "      <td>27</td>\n",
       "    </tr>\n",
       "    <tr>\n",
       "      <th>3</th>\n",
       "      <td>49</td>\n",
       "    </tr>\n",
       "    <tr>\n",
       "      <th rowspan=\"2\" valign=\"top\">1990</th>\n",
       "      <th>1</th>\n",
       "      <td>55</td>\n",
       "    </tr>\n",
       "    <tr>\n",
       "      <th>2</th>\n",
       "      <td>27</td>\n",
       "    </tr>\n",
       "  </tbody>\n",
       "</table>\n",
       "</div>"
      ],
      "text/plain": [
       "                       nombre_conflits\n",
       "year type_of_violence                 \n",
       "1989 1                              50\n",
       "     2                              27\n",
       "     3                              49\n",
       "1990 1                              55\n",
       "     2                              27"
      ]
     },
     "execution_count": 59,
     "metadata": {},
     "output_type": "execute_result"
    }
   ],
   "source": [
    "df_visu_conflit = df[['year','type_of_violence', 'conflict_new_id']].groupby(['year','type_of_violence']).nunique()\n",
    "df_visu_conflit.columns = ['year1','type1','nombre_conflits']\n",
    "df_visu_conflit = df_visu_conflit.drop(['year1','type1'], axis=1)\n",
    "df_visu_conflit.head()"
   ]
  },
  {
   "cell_type": "code",
   "execution_count": 64,
   "metadata": {},
   "outputs": [
    {
     "data": {
      "text/plain": [
       "MultiIndex([(1989, 1),\n",
       "            (1989, 2),\n",
       "            (1989, 3),\n",
       "            (1990, 1),\n",
       "            (1990, 2),\n",
       "            (1990, 3),\n",
       "            (1991, 1),\n",
       "            (1991, 2),\n",
       "            (1991, 3),\n",
       "            (1992, 1),\n",
       "            (1992, 2),\n",
       "            (1992, 3),\n",
       "            (1993, 1),\n",
       "            (1993, 2),\n",
       "            (1993, 3),\n",
       "            (1994, 1),\n",
       "            (1994, 2),\n",
       "            (1994, 3),\n",
       "            (1995, 1),\n",
       "            (1995, 2),\n",
       "            (1995, 3),\n",
       "            (1996, 1),\n",
       "            (1996, 2),\n",
       "            (1996, 3),\n",
       "            (1997, 1),\n",
       "            (1997, 2),\n",
       "            (1997, 3),\n",
       "            (1998, 1),\n",
       "            (1998, 2),\n",
       "            (1998, 3),\n",
       "            (1999, 1),\n",
       "            (1999, 2),\n",
       "            (1999, 3),\n",
       "            (2000, 1),\n",
       "            (2000, 2),\n",
       "            (2000, 3),\n",
       "            (2001, 1),\n",
       "            (2001, 2),\n",
       "            (2001, 3),\n",
       "            (2002, 1),\n",
       "            (2002, 2),\n",
       "            (2002, 3),\n",
       "            (2003, 1),\n",
       "            (2003, 2),\n",
       "            (2003, 3),\n",
       "            (2004, 1),\n",
       "            (2004, 2),\n",
       "            (2004, 3),\n",
       "            (2005, 1),\n",
       "            (2005, 2),\n",
       "            (2005, 3),\n",
       "            (2006, 1),\n",
       "            (2006, 2),\n",
       "            (2006, 3),\n",
       "            (2007, 1),\n",
       "            (2007, 2),\n",
       "            (2007, 3),\n",
       "            (2008, 1),\n",
       "            (2008, 2),\n",
       "            (2008, 3),\n",
       "            (2009, 1),\n",
       "            (2009, 2),\n",
       "            (2009, 3),\n",
       "            (2010, 1),\n",
       "            (2010, 2),\n",
       "            (2010, 3),\n",
       "            (2011, 1),\n",
       "            (2011, 2),\n",
       "            (2011, 3),\n",
       "            (2012, 1),\n",
       "            (2012, 2),\n",
       "            (2012, 3),\n",
       "            (2013, 1),\n",
       "            (2013, 2),\n",
       "            (2013, 3),\n",
       "            (2014, 1),\n",
       "            (2014, 2),\n",
       "            (2014, 3),\n",
       "            (2015, 1),\n",
       "            (2015, 2),\n",
       "            (2015, 3),\n",
       "            (2016, 1),\n",
       "            (2016, 2),\n",
       "            (2016, 3),\n",
       "            (2017, 1),\n",
       "            (2017, 2),\n",
       "            (2017, 3),\n",
       "            (2018, 1),\n",
       "            (2018, 2),\n",
       "            (2018, 3),\n",
       "            (2019, 1),\n",
       "            (2019, 2),\n",
       "            (2019, 3),\n",
       "            (2020, 1),\n",
       "            (2020, 2),\n",
       "            (2020, 3)],\n",
       "           names=['year', 'type_of_violence'])"
      ]
     },
     "execution_count": 64,
     "metadata": {},
     "output_type": "execute_result"
    }
   ],
   "source": [
    "df_visu_conflit.index"
   ]
  },
  {
   "cell_type": "code",
   "execution_count": 65,
   "metadata": {},
   "outputs": [
    {
     "data": {
      "image/png": "[encoded data removed]",
      "text/plain": [
       "<Figure size 432x288 with 1 Axes>"
      ]
     },
     "metadata": {
      "needs_background": "light"
     },
     "output_type": "display_data"
    }
   ],
   "source": [
    "visu_conflit = sns.barplot(x= df_visu_conflit.index,y='nombre_conflits', data = df_visu_conflit)"
   ]
  },
  {
   "cell_type": "markdown",
   "metadata": {},
   "source": [
    "# Exploration graphique"
   ]
  },
  {
   "cell_type": "code",
   "execution_count": 9,
   "metadata": {},
   "outputs": [
    {
     "data": {
      "text/html": [
       "<div>\n",
       "<style scoped>\n",
       "    .dataframe tbody tr th:only-of-type {\n",
       "        vertical-align: middle;\n",
       "    }\n",
       "\n",
       "    .dataframe tbody tr th {\n",
       "        vertical-align: top;\n",
       "    }\n",
       "\n",
       "    .dataframe thead th {\n",
       "        text-align: right;\n",
       "    }\n",
       "</style>\n",
       "<table border=\"1\" class=\"dataframe\">\n",
       "  <thead>\n",
       "    <tr style=\"text-align: right;\">\n",
       "      <th></th>\n",
       "      <th>id</th>\n",
       "      <th>year</th>\n",
       "      <th>where_coordinates</th>\n",
       "      <th>latitude</th>\n",
       "      <th>longitude</th>\n",
       "      <th>country</th>\n",
       "      <th>best</th>\n",
       "      <th>type_of_violence</th>\n",
       "      <th>side_a</th>\n",
       "      <th>side_b</th>\n",
       "      <th>source_headline</th>\n",
       "    </tr>\n",
       "  </thead>\n",
       "  <tbody>\n",
       "    <tr>\n",
       "      <th>0</th>\n",
       "      <td>244657</td>\n",
       "      <td>2017</td>\n",
       "      <td>Kabul city</td>\n",
       "      <td>34.531094</td>\n",
       "      <td>69.162796</td>\n",
       "      <td>Afghanistan</td>\n",
       "      <td>6</td>\n",
       "      <td>1</td>\n",
       "      <td>Government of Iraq</td>\n",
       "      <td>IS</td>\n",
       "      <td>Attackers target Shiite mosque in Afghanistan'...</td>\n",
       "    </tr>\n",
       "    <tr>\n",
       "      <th>1</th>\n",
       "      <td>132140</td>\n",
       "      <td>1989</td>\n",
       "      <td>Nangarhar province</td>\n",
       "      <td>34.333330</td>\n",
       "      <td>70.416670</td>\n",
       "      <td>Afghanistan</td>\n",
       "      <td>6</td>\n",
       "      <td>1</td>\n",
       "      <td>Government of Afghanistan</td>\n",
       "      <td>Jam'iyyat-i Islami-yi Afghanistan</td>\n",
       "      <td>NaN</td>\n",
       "    </tr>\n",
       "    <tr>\n",
       "      <th>2</th>\n",
       "      <td>130364</td>\n",
       "      <td>1989</td>\n",
       "      <td>Kunduz province</td>\n",
       "      <td>36.750000</td>\n",
       "      <td>68.750000</td>\n",
       "      <td>Afghanistan</td>\n",
       "      <td>4</td>\n",
       "      <td>1</td>\n",
       "      <td>Government of Afghanistan</td>\n",
       "      <td>Jam'iyyat-i Islami-yi Afghanistan</td>\n",
       "      <td>NaN</td>\n",
       "    </tr>\n",
       "    <tr>\n",
       "      <th>3</th>\n",
       "      <td>130359</td>\n",
       "      <td>1989</td>\n",
       "      <td>Salang pass</td>\n",
       "      <td>35.315833</td>\n",
       "      <td>69.038889</td>\n",
       "      <td>Afghanistan</td>\n",
       "      <td>600</td>\n",
       "      <td>1</td>\n",
       "      <td>Government of Afghanistan</td>\n",
       "      <td>Jam'iyyat-i Islami-yi Afghanistan</td>\n",
       "      <td>NaN</td>\n",
       "    </tr>\n",
       "    <tr>\n",
       "      <th>4</th>\n",
       "      <td>133883</td>\n",
       "      <td>1989</td>\n",
       "      <td>Kabul city</td>\n",
       "      <td>34.531094</td>\n",
       "      <td>69.162796</td>\n",
       "      <td>Afghanistan</td>\n",
       "      <td>2</td>\n",
       "      <td>1</td>\n",
       "      <td>Government of Afghanistan</td>\n",
       "      <td>Jam'iyyat-i Islami-yi Afghanistan</td>\n",
       "      <td>NaN</td>\n",
       "    </tr>\n",
       "    <tr>\n",
       "      <th>...</th>\n",
       "      <td>...</td>\n",
       "      <td>...</td>\n",
       "      <td>...</td>\n",
       "      <td>...</td>\n",
       "      <td>...</td>\n",
       "      <td>...</td>\n",
       "      <td>...</td>\n",
       "      <td>...</td>\n",
       "      <td>...</td>\n",
       "      <td>...</td>\n",
       "      <td>...</td>\n",
       "    </tr>\n",
       "    <tr>\n",
       "      <th>261859</th>\n",
       "      <td>15525</td>\n",
       "      <td>1989</td>\n",
       "      <td>Chipinge district</td>\n",
       "      <td>-20.500000</td>\n",
       "      <td>32.500000</td>\n",
       "      <td>Zimbabwe (Rhodesia)</td>\n",
       "      <td>9</td>\n",
       "      <td>3</td>\n",
       "      <td>Renamo</td>\n",
       "      <td>Civilians</td>\n",
       "      <td>NaN</td>\n",
       "    </tr>\n",
       "    <tr>\n",
       "      <th>261860</th>\n",
       "      <td>15524</td>\n",
       "      <td>1989</td>\n",
       "      <td>Eastern Zimbabwe, near the Mozambique border</td>\n",
       "      <td>-19.000000</td>\n",
       "      <td>32.500000</td>\n",
       "      <td>Zimbabwe (Rhodesia)</td>\n",
       "      <td>9</td>\n",
       "      <td>3</td>\n",
       "      <td>Renamo</td>\n",
       "      <td>Civilians</td>\n",
       "      <td>NaN</td>\n",
       "    </tr>\n",
       "    <tr>\n",
       "      <th>261861</th>\n",
       "      <td>15245</td>\n",
       "      <td>1990</td>\n",
       "      <td>Nyamaropa village</td>\n",
       "      <td>-18.000000</td>\n",
       "      <td>32.833333</td>\n",
       "      <td>Zimbabwe (Rhodesia)</td>\n",
       "      <td>7</td>\n",
       "      <td>3</td>\n",
       "      <td>Renamo</td>\n",
       "      <td>Civilians</td>\n",
       "      <td>NaN</td>\n",
       "    </tr>\n",
       "    <tr>\n",
       "      <th>261862</th>\n",
       "      <td>15516</td>\n",
       "      <td>1990</td>\n",
       "      <td>Eastern Zimbabwe, near the Mozambique border</td>\n",
       "      <td>-19.000000</td>\n",
       "      <td>32.500000</td>\n",
       "      <td>Zimbabwe (Rhodesia)</td>\n",
       "      <td>1</td>\n",
       "      <td>3</td>\n",
       "      <td>Renamo</td>\n",
       "      <td>Civilians</td>\n",
       "      <td>NaN</td>\n",
       "    </tr>\n",
       "    <tr>\n",
       "      <th>261863</th>\n",
       "      <td>15493</td>\n",
       "      <td>1990</td>\n",
       "      <td>Mount Darwin area</td>\n",
       "      <td>-16.783333</td>\n",
       "      <td>31.583333</td>\n",
       "      <td>Zimbabwe (Rhodesia)</td>\n",
       "      <td>6</td>\n",
       "      <td>3</td>\n",
       "      <td>Renamo</td>\n",
       "      <td>Civilians</td>\n",
       "      <td>NaN</td>\n",
       "    </tr>\n",
       "  </tbody>\n",
       "</table>\n",
       "<p>261864 rows × 11 columns</p>\n",
       "</div>"
      ],
      "text/plain": [
       "            id  year                             where_coordinates   latitude  \\\n",
       "0       244657  2017                                    Kabul city  34.531094   \n",
       "1       132140  1989                            Nangarhar province  34.333330   \n",
       "2       130364  1989                               Kunduz province  36.750000   \n",
       "3       130359  1989                                   Salang pass  35.315833   \n",
       "4       133883  1989                                    Kabul city  34.531094   \n",
       "...        ...   ...                                           ...        ...   \n",
       "261859   15525  1989                             Chipinge district -20.500000   \n",
       "261860   15524  1989  Eastern Zimbabwe, near the Mozambique border -19.000000   \n",
       "261861   15245  1990                             Nyamaropa village -18.000000   \n",
       "261862   15516  1990  Eastern Zimbabwe, near the Mozambique border -19.000000   \n",
       "261863   15493  1990                             Mount Darwin area -16.783333   \n",
       "\n",
       "        longitude              country  best  type_of_violence  \\\n",
       "0       69.162796          Afghanistan     6                 1   \n",
       "1       70.416670          Afghanistan     6                 1   \n",
       "2       68.750000          Afghanistan     4                 1   \n",
       "3       69.038889          Afghanistan   600                 1   \n",
       "4       69.162796          Afghanistan     2                 1   \n",
       "...           ...                  ...   ...               ...   \n",
       "261859  32.500000  Zimbabwe (Rhodesia)     9                 3   \n",
       "261860  32.500000  Zimbabwe (Rhodesia)     9                 3   \n",
       "261861  32.833333  Zimbabwe (Rhodesia)     7                 3   \n",
       "261862  32.500000  Zimbabwe (Rhodesia)     1                 3   \n",
       "261863  31.583333  Zimbabwe (Rhodesia)     6                 3   \n",
       "\n",
       "                           side_a                             side_b  \\\n",
       "0              Government of Iraq                                 IS   \n",
       "1       Government of Afghanistan  Jam'iyyat-i Islami-yi Afghanistan   \n",
       "2       Government of Afghanistan  Jam'iyyat-i Islami-yi Afghanistan   \n",
       "3       Government of Afghanistan  Jam'iyyat-i Islami-yi Afghanistan   \n",
       "4       Government of Afghanistan  Jam'iyyat-i Islami-yi Afghanistan   \n",
       "...                           ...                                ...   \n",
       "261859                     Renamo                          Civilians   \n",
       "261860                     Renamo                          Civilians   \n",
       "261861                     Renamo                          Civilians   \n",
       "261862                     Renamo                          Civilians   \n",
       "261863                     Renamo                          Civilians   \n",
       "\n",
       "                                          source_headline  \n",
       "0       Attackers target Shiite mosque in Afghanistan'...  \n",
       "1                                                     NaN  \n",
       "2                                                     NaN  \n",
       "3                                                     NaN  \n",
       "4                                                     NaN  \n",
       "...                                                   ...  \n",
       "261859                                                NaN  \n",
       "261860                                                NaN  \n",
       "261861                                                NaN  \n",
       "261862                                                NaN  \n",
       "261863                                                NaN  \n",
       "\n",
       "[261864 rows x 11 columns]"
      ]
     },
     "execution_count": 9,
     "metadata": {},
     "output_type": "execute_result"
    }
   ],
   "source": [
    "df_map = df[['id','year', 'where_coordinates', 'latitude', 'longitude', 'country','best','type_of_violence', 'side_a', 'side_b', 'source_headline']]\n",
    "df_map"
   ]
  },
  {
   "cell_type": "code",
   "execution_count": 10,
   "metadata": {
    "scrolled": true
   },
   "outputs": [
    {
     "ename": "NameError",
     "evalue": "name 'ProfileReport' is not defined",
     "output_type": "error",
     "traceback": [
      "\u001b[0;31m---------------------------------------------------------------------------\u001b[0m",
      "\u001b[0;31mNameError\u001b[0m                                 Traceback (most recent call last)",
      "\u001b[0;32m<ipython-input-10-d2e10d23f754>\u001b[0m in \u001b[0;36m<module>\u001b[0;34m\u001b[0m\n\u001b[0;32m----> 1\u001b[0;31m \u001b[0mProfileReport\u001b[0m\u001b[0;34m(\u001b[0m\u001b[0mdf_map\u001b[0m\u001b[0;34m,\u001b[0m \u001b[0mtitle\u001b[0m\u001b[0;34m=\u001b[0m\u001b[0;34m\"Données twitter\"\u001b[0m\u001b[0;34m)\u001b[0m\u001b[0;34m.\u001b[0m\u001b[0mto_notebook_iframe\u001b[0m\u001b[0;34m(\u001b[0m\u001b[0;34m)\u001b[0m\u001b[0;34m\u001b[0m\u001b[0;34m\u001b[0m\u001b[0m\n\u001b[0m",
      "\u001b[0;31mNameError\u001b[0m: name 'ProfileReport' is not defined"
     ]
    }
   ],
   "source": [
    "ProfileReport(df_map, title=\"Données twitter\").to_notebook_iframe()"
   ]
  },
  {
   "cell_type": "code",
   "execution_count": 21,
   "metadata": {
    "scrolled": false
   },
   "outputs": [
    {
     "data": {
      "application/vnd.jupyter.widget-view+json": {
       "model_id": "787262098ddd465e8b0695c190d6bd89",
       "version_major": 2,
       "version_minor": 0
      },
      "text/plain": [
       "interactive(children=(Dropdown(description='Année : ', options=(1989, 1990, 1991, 1992, 1993, 1994, 1995, 1996…"
      ]
     },
     "metadata": {},
     "output_type": "display_data"
    },
    {
     "data": {
      "text/plain": [
       "<function __main__.map_density(year=1989, type_event=0)>"
      ]
     },
     "execution_count": 21,
     "metadata": {},
     "output_type": "execute_result"
    }
   ],
   "source": [
    "# Couleurs dans l'ordre croissant 0-10, 10-30, 30-50,50-100,100-400,400- \n",
    "def colors_count(count):\n",
    "    \n",
    "    colors = ['#f1c40f','#f39c12','#e67e22','#d35400','#e74c3c','#c0392b']\n",
    "    if count < 11:\n",
    "        return colors[0]\n",
    "    elif count < 31:\n",
    "        return colors[1]\n",
    "    elif count < 51: \n",
    "        return colors[2]\n",
    "    elif count < 101:\n",
    "        return colors[3]\n",
    "    elif count < 401:\n",
    "        return colors[4]\n",
    "    else:\n",
    "        return colors[5]\n",
    "\n",
    "def map_density(year=1989,type_event=0):\n",
    "\n",
    "    densityMap = Map(basemap=basemaps.CartoDB.Positron,zoom=2, close_popup_on_click=False)\n",
    "    \n",
    "    if type_event == 0:\n",
    "        data_year = df_map[df_map['year'] == year].country.value_counts()\n",
    "    else:\n",
    "        data_year = df_map[df_map['year'] == year][df_map['type_of_violence'] == type_event].country.value_counts()\n",
    "    \n",
    "    # On inclue une légende\n",
    "    legend = LegendControl({'Entre 0 et 10 événements':'#f1c40f', \n",
    "                            'Entre 11 et 30 événements':'#f39c12', \n",
    "                            'Entre 31 et 50 événements':'#e67e22',\n",
    "                           'Entre 51 et 100 événements' : '#d35400',\n",
    "                           'Entre 101 et 400 événements' :'#e74c3c',\n",
    "                           'Plus de 400 événements' :'#c0392b'}, name=\"Légende\", position=\"bottomright\")\n",
    "    densityMap.add_control(legend)\n",
    "\n",
    "    # On affiche la couleur adapté au nombre d'événement \n",
    "    for country,count in data_year.iteritems():\n",
    "        geo_country = countries[countries[\"name\"] == country]\n",
    "        geodata = GeoData(geo_dataframe = geo_country, \n",
    "     style={\"color\": \"black\", \"fillColor\":colors_count(count), \"opacity\":0.03, \"weight\":1.9, \"dashArray\":\"2\", \n",
    "            \"fillOpacity\":0.6},name = \"Countries\")\n",
    "        \n",
    "        densityMap.add_layer(geodata)\n",
    "    \n",
    "    return densityMap\n",
    "\n",
    "# Création des widgets pour rendre la carte interactive\n",
    "interact(map_density,\n",
    "         year=widgets.Dropdown(options=[i for i in range(1989,2021,1)], description='Année : '),\n",
    "         type_event=widgets.Dropdown(options=[('Tous les événements', 0),\n",
    "                                              ('Conflit impliquant au moins un état', 1), \n",
    "                                              ('Conflit entre des entités non-étatiques', 2), \n",
    "                                              ('Conflit visant des civils', 3)], description='Type :'))"
   ]
  },
  {
   "cell_type": "code",
   "execution_count": 55,
   "metadata": {},
   "outputs": [
    {
     "data": {
      "application/vnd.jupyter.widget-view+json": {
       "model_id": "6d7c93e1be4d4cf586fe53aeefacbf7a",
       "version_major": 2,
       "version_minor": 0
      },
      "text/plain": [
       "interactive(children=(Dropdown(description='Année : ', options=(1989, 1990, 1991, 1992, 1993, 1994, 1995, 1996…"
      ]
     },
     "metadata": {},
     "output_type": "display_data"
    },
    {
     "data": {
      "text/plain": [
       "<function __main__.map_event(year=1, type_event=0, number_event=0.1, country='Tous')>"
      ]
     },
     "execution_count": 55,
     "metadata": {},
     "output_type": "execute_result"
    }
   ],
   "source": [
    "# Icone en forme d'éclair pour les conflits impliquant deux groupes\n",
    "# Icone en forme de bombe pour les attaques visant les civils\n",
    "icon = [AwesomeIcon(name='flash', icon_color='white'),\n",
    "        AwesomeIcon(name='flash', icon_color='white'),\n",
    "        AwesomeIcon(name='bomb', icon_color='white')]\n",
    "\n",
    "\n",
    "# Couleurs dans l'ordre croissant\n",
    "def colors_fatalities(fatalities):\n",
    "    \n",
    "    colors = ['green', 'orange','red','darkred','black']\n",
    "    \n",
    "    if fatalities == 0:\n",
    "        return colors[0]\n",
    "    elif fatalities < 11:\n",
    "        return colors[1]\n",
    "    elif fatalities < 41:\n",
    "        return colors[2]\n",
    "    elif fatalities < 101: \n",
    "        return colors[3]\n",
    "    else:\n",
    "        return colors[4]\n",
    "\n",
    "\n",
    "    \n",
    "def map_event(year=1,type_event=0,number_event=0.1,country='Tous'):\n",
    "\n",
    "    clusterMap = Map(basemap=basemaps.CartoDB.Positron,zoom=2, close_popup_on_click=False)\n",
    "    \n",
    "    # On inclue une légende\n",
    "    legend = LegendControl({'Aucun blessé':'green', \n",
    "                            'Entre 0 et 10 décés ':'orange', \n",
    "                            'Entre 11 et 40 décés':'red',\n",
    "                           'Entre 41 et 100 décés' : 'darkred',\n",
    "                           'Plus de 100 décés' :'black'}, name=\"Légende\", position=\"bottomright\")\n",
    "    clusterMap.add_control(legend)\n",
    "    \n",
    "    # On stocke tous les marqueurs dans une liste\n",
    "    markers_custom=[]\n",
    "    \n",
    "    # On sélectionne le pays si sélectionné\n",
    "    if country != 'Tous':\n",
    "        data_temp = df_map[df_map['year'] == year][df_map['country'] == country]\n",
    "    else: \n",
    "        data_temp = df_map[df_map['year'] == year]\n",
    "    \n",
    "    if type_event == 0:\n",
    "        data = data_temp.sample(frac=number_event)\n",
    "    else:\n",
    "        data = data_temp[df_map['type_of_violence'] == type_event].sample(frac=number_event)\n",
    "    \n",
    "    # On crée tous les marqueurs \n",
    "    for index,event in data.iterrows():\n",
    "\n",
    "        # Création du message qui s'affiche en cliquant sur l'icone\n",
    "        message = HTML()\n",
    "        message.value = \"<b>Localisation :</b> \" + str(event.where_coordinates) + \"<br /> <b>Nombre de morts :</b> \" + str(event.best)\n",
    "        if event.type_of_violence == 3:\n",
    "            message.value += \"<br /> <b> Attaque effectuée par : </b>\" + event.side_a\n",
    "            current_icon = AwesomeIcon(name='bomb', marker_color=colors_fatalities(event.best))\n",
    "        else:\n",
    "            message.value += \"<br /> <b> Entité impliquée : </b>\" + event.side_a + \" / \" + event.side_b\n",
    "            current_icon = AwesomeIcon(name='flash', marker_color=colors_fatalities(event.best))\n",
    "        \n",
    "        \n",
    "        # Création du marqueur au bon endroit avec la bonne icone\n",
    "        marker = Marker(location=(event.latitude,event.longitude), draggable=False, icon=current_icon)\n",
    "\n",
    "        \n",
    "        marker.popup = message\n",
    "    \n",
    "        markers_custom.append(marker)\n",
    "    \n",
    "    # On affiche tous les événements sous forme de cluster\n",
    "    clusterMap.add_layer(MarkerCluster(markers=markers_custom))\n",
    "    \n",
    "    return clusterMap\n",
    "\n",
    "# Création des widgets pour rendre la carte interactive\n",
    "interact(map_event,\n",
    "         year=widgets.Dropdown(options=[i for i in range(1989,2021,1)], description='Année : '),\n",
    "         type_event=widgets.Dropdown(options=[('Tous les événements', 0),\n",
    "                                              ('Conflit impliquant au moins un état', 1), \n",
    "                                              ('Conflit entre des entités non-étatiques', 2), \n",
    "                                              ('Conflit visant des civils', 3)], description='Type :'),\n",
    "         number_event=widgets.Dropdown(options=[('10% des événements de l\\'année', 0.1),\n",
    "                                                ('30% des événements de l\\'année', 0.3), \n",
    "                                                ('50% des événements de l\\'année (possiblement long)', 0.5), \n",
    "                                                ('80% des événements de l\\'année (possiblement long)', 0.8),\n",
    "                                               ('100% des événements de l\\'année (possiblement long)', 1)], description='Afficher : '),\n",
    "         country=widgets.Dropdown(options=['Tous'] + [name for name in countries.name.values], description='Pays : '))"
   ]
  },
  {
   "cell_type": "code",
   "execution_count": 27,
   "metadata": {},
   "outputs": [
    {
     "data": {
      "text/plain": [
       "120.39240506329114"
      ]
     },
     "execution_count": 27,
     "metadata": {},
     "output_type": "execute_result"
    }
   ],
   "source": [
    "data_year = df_map[df_map['year'] == 2015].best.value_counts()\n",
    "data_year.mean()"
   ]
  },
  {
   "cell_type": "code",
   "execution_count": 31,
   "metadata": {},
   "outputs": [
    {
     "data": {
      "text/plain": [
       "'darkred'"
      ]
     },
     "execution_count": 31,
     "metadata": {},
     "output_type": "execute_result"
    }
   ],
   "source": [
    "colors_fatalities(1000)"
   ]
  },
  {
   "cell_type": "code",
   "execution_count": null,
   "metadata": {},
   "outputs": [],
   "source": []
  }
 ],
 "metadata": {
  "kernelspec": {
   "display_name": "Python 3",
   "language": "python",
   "name": "python3"
  },
  "language_info": {
   "codemirror_mode": {
    "name": "ipython",
    "version": 3
   },
   "file_extension": ".py",
   "mimetype": "text/x-python",
   "name": "python",
   "nbconvert_exporter": "python",
   "pygments_lexer": "ipython3",
   "version": "3.8.3"
  }
 },
 "nbformat": 4,
 "nbformat_minor": 5
}
