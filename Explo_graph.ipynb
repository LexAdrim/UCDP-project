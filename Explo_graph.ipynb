{
 "cells": [
  {
   "cell_type": "code",
   "execution_count": 1,
   "id": "6b847961",
   "metadata": {},
   "outputs": [],
   "source": [
    "import pandas as pd\n",
    "import seaborn as sns\n",
    "from ipyleaflet import *\n",
    "from branca.colormap import linear\n",
    "import json\n",
    "import pandas\n",
    "import geopandas as gpd\n",
    "from colour import Color\n",
    "from pandas_profiling import ProfileReport\n",
    "import numpy as np\n",
    "from ipywidgets import *\n",
    "import warnings\n",
    "warnings.filterwarnings(\"ignore\")"
   ]
  },
  {
   "cell_type": "code",
   "execution_count": 2,
   "id": "7e007e7f",
   "metadata": {},
   "outputs": [],
   "source": [
    "# 1989-01-01 and 2020-12-31\n",
    "df = pd.read_csv(r'C:\\Users\\matth\\OneDrive - GENES\\ENSAE 2A\\Python pour le data scientist/ged211.csv')\n",
    "#df = pd.read_csv('/Users/mcolas/Documents/ged211.csv')\n",
    "#df = pd.read_csv('../UCDP.csv')\n",
    "\n",
    "# On récupére une base de donnée comprenant une liste de données sur les pays du monde\n",
    "countries = gpd.read_file(gpd.datasets.get_path(\"naturalearth_lowres\"))\n",
    "\n",
    "df_map = df[['id','year', 'where_coordinates', 'latitude', 'longitude', 'country','best','type_of_violence', 'side_a', 'side_b', 'source_headline']]"
   ]
  },
  {
   "cell_type": "code",
   "execution_count": 3,
   "id": "0e2fb017",
   "metadata": {},
   "outputs": [
    {
     "data": {
      "application/vnd.jupyter.widget-view+json": {
       "model_id": "13c8c0417f32488a95f39f8cd35887ce",
       "version_major": 2,
       "version_minor": 0
      },
      "text/plain": [
       "interactive(children=(Dropdown(description='Année : ', options=(1989, 1990, 1991, 1992, 1993, 1994, 1995, 1996…"
      ]
     },
     "metadata": {},
     "output_type": "display_data"
    },
    {
     "data": {
      "text/plain": [
       "<function __main__.map_density(year=1989, type_event=0)>"
      ]
     },
     "execution_count": 3,
     "metadata": {},
     "output_type": "execute_result"
    }
   ],
   "source": [
    "#Construction d'une carte interactive permettant d'obtenir une vision globale du nombre de conflits par état et par année\n",
    "\n",
    "# Couleurs dans l'ordre croissant 0-10, 10-30, 30-50,50-100,100-400,400- \n",
    "def colors_count(count):\n",
    "    \n",
    "    colors = ['#f1c40f','#f39c12','#e67e22','#d35400','#e74c3c','#c0392b']\n",
    "    if count < 11:\n",
    "        return colors[0]\n",
    "    elif count < 31:\n",
    "        return colors[1]\n",
    "    elif count < 51: \n",
    "        return colors[2]\n",
    "    elif count < 101:\n",
    "        return colors[3]\n",
    "    elif count < 401:\n",
    "        return colors[4]\n",
    "    else:\n",
    "        return colors[5]\n",
    "\n",
    "def map_density(year=1989,type_event=0):\n",
    "\n",
    "    densityMap = Map(basemap=basemaps.CartoDB.Positron,zoom=2, close_popup_on_click=False)\n",
    "    \n",
    "    if type_event == 0:\n",
    "        data_year = df_map[df_map['year'] == year].country.value_counts()\n",
    "    else:\n",
    "        data_year = df_map[df_map['year'] == year][df_map['type_of_violence'] == type_event].country.value_counts()\n",
    "    \n",
    "    # On inclue une légende\n",
    "    legend = LegendControl({'Entre 0 et 10 événements':'#f1c40f', \n",
    "                            'Entre 11 et 30 événements':'#f39c12', \n",
    "                            'Entre 31 et 50 événements':'#e67e22',\n",
    "                           'Entre 51 et 100 événements' : '#d35400',\n",
    "                           'Entre 101 et 400 événements' :'#e74c3c',\n",
    "                           'Plus de 400 événements' :'#c0392b'}, name=\"Légende\", position=\"bottomright\")\n",
    "    densityMap.add_control(legend)\n",
    "\n",
    "    # On affiche la couleur adapté au nombre d'événement \n",
    "    for country,count in data_year.iteritems():\n",
    "        geo_country = countries[countries[\"name\"] == country]\n",
    "        geodata = GeoData(geo_dataframe = geo_country, \n",
    "     style={\"color\": \"black\", \"fillColor\":colors_count(count), \"opacity\":0.03, \"weight\":1.9, \"dashArray\":\"2\", \n",
    "            \"fillOpacity\":0.6},name = \"Countries\")\n",
    "        \n",
    "        densityMap.add_layer(geodata)\n",
    "    \n",
    "    return densityMap\n",
    "\n",
    "# Création des widgets pour rendre la carte interactive\n",
    "interact(map_density,\n",
    "         year=widgets.Dropdown(options=[i for i in range(1989,2021,1)], description='Année : '),\n",
    "         type_event=widgets.Dropdown(options=[('Tous les événements', 0),\n",
    "                                              ('Conflit impliquant au moins un état', 1), \n",
    "                                              ('Conflit entre des entités non-étatiques', 2), \n",
    "                                              ('Conflit visant des civils', 3)], description='Type :'))"
   ]
  },
  {
   "cell_type": "code",
   "execution_count": 4,
   "id": "88717234",
   "metadata": {},
   "outputs": [
    {
     "data": {
      "application/vnd.jupyter.widget-view+json": {
       "model_id": "1690213c2da44656883395774c819050",
       "version_major": 2,
       "version_minor": 0
      },
      "text/plain": [
       "interactive(children=(Dropdown(description='Année : ', options=(1989, 1990, 1991, 1992, 1993, 1994, 1995, 1996…"
      ]
     },
     "metadata": {},
     "output_type": "display_data"
    },
    {
     "data": {
      "text/plain": [
       "<function __main__.map_event(year=1, type_event=0, number_event=0.1, country='Tous')>"
      ]
     },
     "execution_count": 4,
     "metadata": {},
     "output_type": "execute_result"
    }
   ],
   "source": [
    "#Création d'une carte interactive permettant d'obtenir une vision globale du nombre de morts par état et par année\n",
    "#La carte permet de connaitre la localisation du conflit et le nombre de morts lié à chaque type de conflit\n",
    "\n",
    "# Icone en forme d'éclair pour les conflits impliquant deux groupes\n",
    "# Icone en forme de bombe pour les attaques visant les civils\n",
    "icon = [AwesomeIcon(name='flash', icon_color='white'),\n",
    "        AwesomeIcon(name='flash', icon_color='white'),\n",
    "        AwesomeIcon(name='bomb', icon_color='white')]\n",
    "\n",
    "\n",
    "# Couleurs dans l'ordre croissant\n",
    "def colors_fatalities(fatalities):\n",
    "    \n",
    "    colors = ['green', 'orange','red','darkred','black']\n",
    "    \n",
    "    if fatalities == 0:\n",
    "        return colors[0]\n",
    "    elif fatalities < 11:\n",
    "        return colors[1]\n",
    "    elif fatalities < 41:\n",
    "        return colors[2]\n",
    "    elif fatalities < 101: \n",
    "        return colors[3]\n",
    "    else:\n",
    "        return colors[4]\n",
    "\n",
    "\n",
    "    \n",
    "def map_event(year=1,type_event=0,number_event=0.1,country='Tous'):\n",
    "\n",
    "    clusterMap = Map(basemap=basemaps.CartoDB.Positron,zoom=2, close_popup_on_click=False)\n",
    "    \n",
    "    # On inclue une légende\n",
    "    legend = LegendControl({'Aucun blessé':'green', \n",
    "                            'Entre 0 et 10 décés ':'orange', \n",
    "                            'Entre 11 et 40 décés':'red',\n",
    "                           'Entre 41 et 100 décés' : 'darkred',\n",
    "                           'Plus de 100 décés' :'black'}, name=\"Légende\", position=\"bottomright\")\n",
    "    clusterMap.add_control(legend)\n",
    "    \n",
    "    # On stocke tous les marqueurs dans une liste\n",
    "    markers_custom=[]\n",
    "    \n",
    "    # On sélectionne le pays si sélectionné\n",
    "    if country != 'Tous':\n",
    "        data_temp = df_map[df_map['year'] == year][df_map['country'] == country]\n",
    "    else: \n",
    "        data_temp = df_map[df_map['year'] == year]\n",
    "    \n",
    "    if type_event == 0:\n",
    "        data = data_temp.sample(frac=number_event)\n",
    "    else:\n",
    "        data = data_temp[df_map['type_of_violence'] == type_event].sample(frac=number_event)\n",
    "    \n",
    "    # On crée tous les marqueurs \n",
    "    for index,event in data.iterrows():\n",
    "\n",
    "        # Création du message qui s'affiche en cliquant sur l'icone\n",
    "        message = HTML()\n",
    "        message.value = \"<b>Localisation :</b> \" + str(event.where_coordinates) + \"<br /> <b>Nombre de morts :</b> \" + str(event.best)\n",
    "        if event.type_of_violence == 3:\n",
    "            message.value += \"<br /> <b> Attaque effectuée par : </b>\" + event.side_a\n",
    "            current_icon = AwesomeIcon(name='bomb', marker_color=colors_fatalities(event.best))\n",
    "        else:\n",
    "            message.value += \"<br /> <b> Entité impliquée : </b>\" + event.side_a + \" / \" + event.side_b\n",
    "            current_icon = AwesomeIcon(name='flash', marker_color=colors_fatalities(event.best))\n",
    "        \n",
    "        \n",
    "        # Création du marqueur au bon endroit avec la bonne icone\n",
    "        marker = Marker(location=(event.latitude,event.longitude), draggable=False, icon=current_icon)\n",
    "\n",
    "        \n",
    "        marker.popup = message\n",
    "    \n",
    "        markers_custom.append(marker)\n",
    "    \n",
    "    # On affiche tous les événements sous forme de cluster\n",
    "    clusterMap.add_layer(MarkerCluster(markers=markers_custom))\n",
    "    \n",
    "    return clusterMap\n",
    "\n",
    "# Création des widgets pour rendre la carte interactive\n",
    "interact(map_event,\n",
    "         year=widgets.Dropdown(options=[i for i in range(1989,2021,1)], description='Année : '),\n",
    "         type_event=widgets.Dropdown(options=[('Tous les événements', 0),\n",
    "                                              ('Conflit impliquant au moins un état', 1), \n",
    "                                              ('Conflit entre des entités non-étatiques', 2), \n",
    "                                              ('Conflit visant des civils', 3)], description='Type :'),\n",
    "         number_event=widgets.Dropdown(options=[('10% des événements de l\\'année', 0.1),\n",
    "                                                ('30% des événements de l\\'année', 0.3), \n",
    "                                                ('50% des événements de l\\'année (possiblement long)', 0.5), \n",
    "                                                ('80% des événements de l\\'année (possiblement long)', 0.8),\n",
    "                                               ('100% des événements de l\\'année (possiblement long)', 1)], description='Afficher : '),\n",
    "         country=widgets.Dropdown(options=['Tous'] + [name for name in countries.name.values], description='Pays : '))"
   ]
  }
 ],
 "metadata": {
  "kernelspec": {
   "display_name": "geo_env",
   "language": "python",
   "name": "geo_env"
  },
  "language_info": {
   "codemirror_mode": {
    "name": "ipython",
    "version": 3
   },
   "file_extension": ".py",
   "mimetype": "text/x-python",
   "name": "python",
   "nbconvert_exporter": "python",
   "pygments_lexer": "ipython3",
   "version": "3.8.8"
  }
 },
 "nbformat": 4,
 "nbformat_minor": 5
}
