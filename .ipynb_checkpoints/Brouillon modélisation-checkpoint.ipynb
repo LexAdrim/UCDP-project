{
 "cells": [
  {
   "cell_type": "code",
   "execution_count": null,
   "id": "proper-printer",
   "metadata": {},
   "outputs": [],
   "source": [
    "from sklearn.linear_model import LinearRegression\n",
    "from sklearn.model_selection import train_test_split\n",
    "import sklearn.metrics\n",
    "import matplotlib.pyplot as plt\n",
    "import seaborn as sns\n",
    "from sklearn.preprocessing import StandardScaler\n",
    "from sklearn.cluster import KMeans\n",
    "import geopandas as gpd\n",
    "from sklearn import cluster"
   ]
  },
  {
   "cell_type": "code",
   "execution_count": null,
   "id": "joined-processing",
   "metadata": {},
   "outputs": [],
   "source": [
    "#Construction de la variable binaire qui indique ou non la présence d'un nouveau conflit\n",
    "df_conflit = df[['country','year','conflict_new_id']]\n",
    "df_conflit['nouveau conflit'] = 0\n",
    "   \n",
    "liste_conflit=[]\n",
    "for i in range (df_conflit.shape[0]) :\n",
    "    if df_conflit.iloc[i,2] in liste_conflit == True :\n",
    "        df_conflit.iloc[i,3] = 0\n",
    "    else :\n",
    "        df_conflit.iloc[i,3] = 1\n",
    "        liste_conflit.append(df_conflit.iloc[i,2])\n",
    "        \n",
    "df_conflit2 = df_conflit.groupby(['country','year']).nunique()\n",
    "df_conflit2['Présence nouveau conflit'] = df_conflit2['nouveau conflit']-1\n",
    "df_conflit2.head()"
   ]
  },
  {
   "cell_type": "code",
   "execution_count": null,
   "id": "formed-confirmation",
   "metadata": {},
   "outputs": [],
   "source": [
    "#Création du data frame risque structurel\n",
    "\n",
    "df_risque = dataframe1.merge(dataframe2, left_on = 'country', right_on = 'country').drop('Croissance PIB')\n",
    "\n",
    "df_risque_structu = dfconflit2.merge(dataframe2, left_on = 'country', right_on = 'country')"
   ]
  },
  {
   "cell_type": "code",
   "execution_count": null,
   "id": "committed-dating",
   "metadata": {},
   "outputs": [],
   "source": [
    "#Réalisation de clusters\n",
    "\n",
    "# Pour connaitre le nombre de clusters\n",
    "K_clusters = range(1,100)\n",
    "kmeans = [KMeans(n_clusters = i) for i in K_clusters]\n",
    "Y_axis = df_risque_structu[['Présence nouveau conflit']]\n",
    "X_axis = df_risque_structu[['polity2', 'PVCCI', 'fearon', 'year', 'EVI', 'Population', 'PIB/hab', 'Capital Humain']]\n",
    "score = [kmeans[i].fit(Y_axis).score(Y_axis) for i in range(len(kmeans))]\n",
    "\n",
    "# Visualisation\n",
    "plt.plot(K_clusters, score)\n",
    "plt.xlabel('Nombre de Clusters')\n",
    "plt.ylabel('Score')\n",
    "plt.title('Méthode du coude')\n",
    "plt.show()\n",
    "\n",
    "#on a maintenant le nombre de clusters que l'on souhaite\n",
    "k = \n",
    "\n",
    "#identification des clusters\n",
    "\n",
    "X = df_risque_structu[['polity2', 'PVCCI', 'fearon', 'year', 'EVI', 'Population', 'PIB/hab', 'Capital Humain']]\n",
    "kmeans = KMeans(n_clusters = k, init ='k-means++')\n",
    "kmeans.fit(X) # Compute k-means clustering.\n",
    "X['cluster_label'] = kmeans.fit_predict(X)\n",
    "centers = kmeans.cluster_centers_ # Coordinates of cluster centers.\n",
    "labels = kmeans.predict(X) # Labels of each point\n",
    "\n",
    "df_risque_structu['Cluster'] = X['cluster_label']\n",
    "\n",
    "#Représentation sur une carte\n",
    "world = gpd.read_file(gpd.datasets.get_path('naturalearth_lowres'))\n",
    "\n",
    "fig, ax = plt.subplots(1, 1, figsize=(6, 6))\n",
    "ax.set_aspect('equal')\n",
    "world.plot(ax=ax, color='white', edgecolor='black')\n",
    "\n",
    "def colors_cluster(cluster):\n",
    "    \n",
    "    colors = ['green', 'orange','red','darkred','black']\n",
    "    if cluster == i :\n",
    "        return colors[i]\n",
    "        \n",
    "df_risque_structu['Couleur'] = colors_cluster(df_risque_structu['Cluster'])\n",
    "   \n",
    "ax.set_title('Carte des clusters')"
   ]
  },
  {
   "cell_type": "code",
   "execution_count": null,
   "id": "great-auditor",
   "metadata": {},
   "outputs": [],
   "source": [
    "#Représentation sur une carte\n",
    "world = gpd.read_file(gpd.datasets.get_path('naturalearth_lowres'))\n",
    "fig, ax = plt.subplots(1, 1, figsize=(6, 6))\n",
    "ax.set_aspect('equal')\n",
    "world.plot(ax=ax, color='white', edgecolor='black')\n",
    "\n",
    "def colors_cluster(cluster):\n",
    "    \n",
    "    colors = ['green', 'orange','red','darkred','black']\n",
    "    if cluster == i :\n",
    "        return colors[i]\n",
    "        \n",
    "df_risque_structu['Couleur'] = colors_cluster(df_risque_structu['Cluster'])\n",
    "   \n",
    "ax.set_title('Carte des clusters')"
   ]
  },
  {
   "cell_type": "code",
   "execution_count": null,
   "id": "altered-median",
   "metadata": {},
   "outputs": [],
   "source": [
    "#Régression logistique sur les indicateurs de risque strucurel par cluster\n",
    "\n",
    "x = df_risque_structu[['polity2', 'PVCCI', 'fearon', 'year', 'EVI', 'Population', 'PIB/hab', 'Capital Humain']]\n",
    "y = df_risque_structu[['Présence nouveau conflit']]\n",
    "\n",
    "#fractionner dataset (train-test)\n",
    "x_train, x_test, y_train, y_test = train_test_split(x, y, test_size = 0.20)\n",
    "\n",
    "#instanciation du modèle\n",
    "modele_regLog = linear_model.LogisticRegression(random_state = 0, solver = 'liblinear', multi_class = 'auto')\n",
    "\n",
    "#training\n",
    "modele_regLog.fit(x_train, y_train)\n",
    "\n",
    "#calcul de précision\n",
    "precision = modele_regLog.score(x_test, y_test)\n",
    "print(precision * 100)"
   ]
  }
 ],
 "metadata": {
  "kernelspec": {
   "display_name": "Python 3",
   "language": "python",
   "name": "python3"
  },
  "language_info": {
   "codemirror_mode": {
    "name": "ipython",
    "version": 3
   },
   "file_extension": ".py",
   "mimetype": "text/x-python",
   "name": "python",
   "nbconvert_exporter": "python",
   "pygments_lexer": "ipython3",
   "version": "3.9.1"
  }
 },
 "nbformat": 4,
 "nbformat_minor": 5
}
