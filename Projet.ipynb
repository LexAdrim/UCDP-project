{
 "cells": [
  {
   "cell_type": "markdown",
   "id": "6ededb8c",
   "metadata": {},
   "source": [
    "# Projet "
   ]
  },
  {
   "cell_type": "markdown",
   "id": "c210a2b3",
   "metadata": {},
   "source": [
    "__Python pour le data scientist - 2A ENSAE__\n",
    "\n",
    "Adrien Chkirate, Matthieu Colas, Matthieu Dufourd "
   ]
  },
  {
   "cell_type": "markdown",
   "id": "d877eb01",
   "metadata": {},
   "source": [
    "# Introduction\n",
    "\n",
    "__Objectif :__ Le but de notre projet est d'évaluer le risque relatif de décès survenant dans le cadre d'un conflit pour un pays et une date donnés. Nous avons doncsélectionné diffférentes variables explicatives pour lesquelles nous avions suffisamment de données et qui nous semblaient pertinentes dans l'optique de réaliser une régression linéaire. En se basant sur la définition d'un conflit donnée par l'UCPD, nous avons construit notre indice en calculant, pour chaque pays, le ratio entre le nombre de décès liés aux conflits ayant eu lieu au sein du pays lors d'une année et le nombre total de décès liés aux conflits sur cette année. Cette indice nous permet d'estimer l'importance du pays dans la répartition mondiale des décès survenants à cause des conflits. \n",
    "\n",
    "__Le projet__ : Nous avons dans un premier temps réalisé un travail de collecte des données et nous avons ensuite construit un data frame comportant l'ensemble de nos variables explicatives et notre variable expliquée (notre indice). \n",
    "Dans un second temps, nous avons cherché à visualiser à l'aide de statistiques descriptives la situation globale des conflits dans le monde en focntion des années afin d'en obtenir un premier aperçu. Le but était ensuite de construire une carte interactive permettant, au gré de son utilisateur, de visualiser différents paramètres comme le nombre de morts, le type de conflit, la localisation précise, etc. Enfin, afin de répondre à l'objectif que nous nous étions fixé, nous avons prédit la valeur de notre indice pour l'année 2018 à partir d'une régression linéaire. \n",
    "\n",
    "__Les données utilisées__ : Les variables explicatives utilisées sont :\n",
    "- La croissance annuelle du PIB (en %)\n",
    "- La mortalité infantile \n",
    "- La population totale\n",
    "- La valeur des exportations (la valeur actuelle des exportations convertie en dollars américains et exprimée en pourcentage de la moyenne de la période de base (2000))\n",
    "- La mortalité infantile (le nombre d'enfants morts avnt d'atteindre l'âge de un an)\n",
    "- L'indice polity2 (indice construit par la Ferdi variant entre -10 et 10 qui capture le spectre d'autorité du régime politique)\n",
    "- Un indicateur que nous avons construit traduisant le risque relatif de décès survenant dans le cadre d'un conflit chez les pays frontaliers\n",
    "\n",
    "Nous avons récolté ces données entre 1995 et 2018 pour un total de 146 pays.\n",
    "\n",
    "__Les bases de données utilisées__: Afin de mener à bien notre projet, nous avons utilisé plusieurs bases de données.\n",
    "\n",
    "Tout d'abord, nous avons exploité la base de données \"“UCDP GED version 21.1” qui regroupe un ensemble de données mondiales allant du 1er janvier 1989 au 31 décembre 2020. Cette base de données définit 3 types conflit : \n",
    "- les conflits de type 1 : évènement entrainant le recours à la force armée entre deux parties, dont l'une au moins est le gouvernement d'un État, causant au moins 25 décès liés aux combats au cours d'une année civile.\n",
    "- les conflits de type 2 : l'utilisation de la force armée entre deux groupes armés organisés, dont aucun n'est un Etat, qui entraîne la mort d'au moins 25 personnes au cours d'une année.\n",
    "- les conflits de type 3 : l'utilisation de la force armée par le gouvernement d'un État ou par un groupe officiellement organisé contre des civils, qui entraîne la mort d'au moins 25 personnes.\n",
    "Nous avons donc considéré qu'un conflit était un évènement appartenant à l'une de ces catégories. La documentation de cette base de données est disponible sur notre Github.\n",
    "\n",
    "Nous avons récolté le reste des données via l'API de la banque mondiale, excepté l'indice polity2 qui a été récolté à l'aide d'une base de données de la Ferdi.\n",
    "\n",
    "\n"
   ]
  },
  {
   "cell_type": "markdown",
   "id": "e9b930a0",
   "metadata": {},
   "source": [
    "# Les importations\n"
   ]
  },
  {
   "cell_type": "code",
   "execution_count": null,
   "id": "21229064",
   "metadata": {},
   "outputs": [],
   "source": [
    "import pandas as pd\n",
    "from ipyleaflet import *\n",
    "from branca.colormap import linear\n",
    "import json\n",
    "import pandas\n",
    "import geopandas as gpd\n",
    "from colour import Color\n",
    "from pandas_profiling import ProfileReport\n",
    "import numpy as np\n",
    "from ipywidgets import *\n",
    "import seaborn as sns\n",
    "import sklearn as skl\n",
    "from sklearn.preprocessing import StandardScaler\n",
    "from sklearn.model_selection import train_test_split\n",
    "from sklearn.linear_model import LinearRegression"
   ]
  },
  {
   "cell_type": "markdown",
   "id": "24a1c11a",
   "metadata": {},
   "source": [
    "# 1) Récupération des données"
   ]
  },
  {
   "cell_type": "markdown",
   "id": "d1481fb5",
   "metadata": {},
   "source": [
    "# 2) Visualisation"
   ]
  },
  {
   "cell_type": "markdown",
   "id": "7fbd00dc",
   "metadata": {},
   "source": [
    "## 2) a) Statistiques descriptives"
   ]
  },
  {
   "cell_type": "markdown",
   "id": "daf10364",
   "metadata": {},
   "source": [
    "## 2) b) Exploration graphique"
   ]
  },
  {
   "cell_type": "markdown",
   "id": "babf5592",
   "metadata": {},
   "source": [
    "# 3) Modélisation"
   ]
  },
  {
   "cell_type": "markdown",
   "id": "2d018090",
   "metadata": {},
   "source": [
    "# Conclusion"
   ]
  },
  {
   "cell_type": "code",
   "execution_count": null,
   "id": "fa26c943",
   "metadata": {},
   "outputs": [],
   "source": []
  },
  {
   "cell_type": "code",
   "execution_count": null,
   "id": "e629094a",
   "metadata": {},
   "outputs": [],
   "source": []
  }
 ],
 "metadata": {
  "kernelspec": {
   "display_name": "geo_env",
   "language": "python",
   "name": "geo_env"
  },
  "language_info": {
   "codemirror_mode": {
    "name": "ipython",
    "version": 3
   },
   "file_extension": ".py",
   "mimetype": "text/x-python",
   "name": "python",
   "nbconvert_exporter": "python",
   "pygments_lexer": "ipython3",
   "version": "3.8.8"
  }
 },
 "nbformat": 4,
 "nbformat_minor": 5
}
